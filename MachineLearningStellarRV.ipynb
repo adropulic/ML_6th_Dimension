{
 "cells": [
  {
   "cell_type": "code",
   "execution_count": null,
   "metadata": {},
   "outputs": [],
   "source": [
    "###############################################################################\n",
    "# Machine Learning the 6th Dimension: \n",
    "# Stellar Radial Velocities from 5D Phase-Space Correlations\n",
    "###############################################################################\n",
    "# Edited by: Adriana Dropulic, Princeton University, 05-26-21\n",
    "###############################################################################"
   ]
  },
  {
   "cell_type": "code",
   "execution_count": null,
   "metadata": {},
   "outputs": [],
   "source": [
    "import keras\n",
    "import tensorflow as tf\n",
    "from keras import backend as K\n",
    "from tensorflow.keras import initializers"
   ]
  },
  {
   "cell_type": "code",
   "execution_count": null,
   "metadata": {},
   "outputs": [],
   "source": [
    "num_inputs = 5 #number of training variables\n",
    "# Define training, validation, test sets\n",
    "X_train = #shape is (nsamples, num_inputs)\n",
    "y_train = \n",
    "\n",
    "X_val = \n",
    "y_val = \n",
    "\n",
    "X_test = \n",
    "y_test = \n",
    "\n",
    "# Define sample weights\n",
    "# If including sample weights, they must be positive or loss will return nan\n",
    "weights_train =\n",
    "weights_val ="
   ]
  },
  {
   "cell_type": "code",
   "execution_count": null,
   "metadata": {},
   "outputs": [],
   "source": [
    "def LikelihoodLossFunction(y_true, y_pred):\n",
    "    # shape of y_pred should be (nsamples, 2)\n",
    "    # the first column should be the line-of-sight velocity\n",
    "    # the second column is the uncertainty\n",
    "    SIGMA = K.abs(y_pred[:, 1]) + 1e-6\n",
    "    LOC = y_pred[:, 0]\n",
    "    X = y_true[:, 0]\n",
    "    weights = y_true[:,1]\n",
    "    ARG = K.pow((X - LOC),2) / (2 * K.pow(SIGMA,2))\n",
    "    PREFACT = K.log(K.pow(2 * np.pi * K.pow(SIGMA,2), -0.5))\n",
    "    return K.mean((ARG - PREFACT) * weights)\n",
    "\n",
    "\n",
    "def ConstantLikelihoodLossFunction(y_true, y_pred):\n",
    "    # shape of y_pred should be (nsamples, 2)\n",
    "    # the first column should be the line-of-sight velocity\n",
    "    # the second column is the uncertainty\n",
    "    LOC = y_pred[:,0]\n",
    "    X = y_true[:, 0]\n",
    "    weights = y_true[:,1]\n",
    "    ARG = K.square(X - LOC) / (2.0)\n",
    "    PREFACT = K.log(K.pow(2 * np.pi, -0.5))\n",
    "    return K.mean((ARG - PREFACT) * weights)"
   ]
  },
  {
   "cell_type": "code",
   "execution_count": null,
   "metadata": {},
   "outputs": [],
   "source": [
    "#Include sample weights in y arrays\n",
    "y_train = np.vstack([y_train, weights_train]).T\n",
    "y_val = np.vstack([y_val, weights_val]).T\n",
    "\n",
    "#Define the half-networks\n",
    "initializer = tf.keras.initializers.glorot_uniform(seed=1)\n",
    "activation = \"tanh\"\n",
    "inputs = Input(shape=(num_inputs,))\n",
    "nlayers = \n",
    "\n",
    "#Velocity predictor\n",
    "MeanEst = (Dense(nlayers, activation=activation, kernel_initializer=initializer))(inputs)\n",
    "MeanEst = (Dense(nlayers, activation=activation, kernel_initializer=initializer))(MeanEst)\n",
    "MeanEst = (Dense(nlayers, activation=activation, kernel_initializer=initializer))(MeanEst)\n",
    "MeanEst = (Dense(nlayers, activation=activation, kernel_initializer=initializer))(MeanEst)\n",
    "MeanEst = (Dense(1, activation='linear', kernel_initializer=initializer))(MeanEst)\n",
    "MeanModel = Model(inputs=[inputs], outputs=MeanEst)\n",
    "\n",
    "#Uncertainty predictor\n",
    "ConfEst= (Dense(nlayers, activation=activation, kernel_initializer=initializer))(inputs)\n",
    "ConfEst= (Dense(nlayers, activation=activation, kernel_initializer=initializer))(ConfEst)\n",
    "ConfEst= (Dense(nlayers, activation=activation, kernel_initializer=initializer))(ConfEst)\n",
    "ConfEst= (Dense(nlayers, activation=activation, kernel_initializer=initializer))(ConfEst)\n",
    "ConfEst= (Dense(1, activation='relu', kernel_initializer=initializer))(ConfEst)\n",
    "ConfModel = Model(inputs=[inputs], outputs=ConfEst)\n",
    "\n",
    "#Combined model\n",
    "CombinedSub = Concatenate(axis=-1)([MeanModel(inputs), ConfModel(inputs)])\n",
    "CombinedModel = Model(inputs=[inputs], outputs=CombinedSub)\n",
    "CombinedModel.summary()"
   ]
  },
  {
   "cell_type": "code",
   "execution_count": null,
   "metadata": {},
   "outputs": [],
   "source": [
    "#Define any callbacks\n",
    "mycallbacks = \n"
   ]
  },
  {
   "cell_type": "code",
   "execution_count": null,
   "metadata": {},
   "outputs": [],
   "source": [
    "#Train the velocity predictor\n",
    "ConfModel.trainable = False\n",
    "MeanModel.trainable = True\n",
    "CombinedModel.compile(loss=ConstantLikelihoodLossFunction,\n",
    "                      optimizer='adam'\n",
    "                     )\n",
    "history = CombinedModel.fit(X_train,y_train,\n",
    "                  validation_data=(X_val, y_val),\n",
    "                  epochs=1000,\n",
    "                  batch_size=10000,\n",
    "                  callbacks = mycallbacks\n",
    "                 )"
   ]
  },
  {
   "cell_type": "code",
   "execution_count": null,
   "metadata": {},
   "outputs": [],
   "source": [
    "#Train the uncertainty predictor\n",
    "ConfModel.trainable = True\n",
    "MeanModel.trainable = False\n",
    "CombinedModel.compile(loss=LikelihoodLossFunction,\n",
    "                      optimizer='adam'\n",
    "                     )\n",
    "\n",
    "history = CombinedModel.fit(X_train,y_train,\n",
    "                  validation_data=(X_val, y_val),\n",
    "                  epochs=1000,\n",
    "                  batch_size=10000,\n",
    "                  callbacks = mycallbacks\n",
    "                 )"
   ]
  },
  {
   "cell_type": "code",
   "execution_count": null,
   "metadata": {},
   "outputs": [],
   "source": [
    "#Train both halves together to produce line-of-sight velocity and uncertainty value per star\n",
    "ConfModel.trainable = True\n",
    "MeanModel.trainable = True\n",
    "CombinedModel.compile(loss=LikelihoodLossFunction,\n",
    "                      optimizer='adam'\n",
    "                     )\n",
    "\n",
    "history = CombinedModel.fit(X_train,y_train,\n",
    "                  validation_data=(X_val, y_val),\n",
    "                  epochs=1000,\n",
    "                  batch_size=10000,\n",
    "                  callbacks = mycallbacks\n",
    "                 )\n"
   ]
  },
  {
   "cell_type": "code",
   "execution_count": null,
   "metadata": {},
   "outputs": [],
   "source": [
    "#Save the weights after completed training\n",
    "CombinedModel.save_weights(\"ModelWeights.h5\")"
   ]
  },
  {
   "cell_type": "code",
   "execution_count": null,
   "metadata": {},
   "outputs": [],
   "source": [
    "#In separate notebook or file, can then do the following\n",
    "CombinedModel.load_weights(\"ModelWeights.h5\")\n",
    "predictions = CombinedModel.predict(X_test)"
   ]
  }
 ],
 "metadata": {
  "kernelspec": {
   "display_name": "venv_ML",
   "language": "python",
   "name": "venv_ml"
  },
  "language_info": {
   "codemirror_mode": {
    "name": "ipython",
    "version": 3
   },
   "file_extension": ".py",
   "mimetype": "text/x-python",
   "name": "python",
   "nbconvert_exporter": "python",
   "pygments_lexer": "ipython3",
   "version": "3.6.10"
  }
 },
 "nbformat": 4,
 "nbformat_minor": 4
}
